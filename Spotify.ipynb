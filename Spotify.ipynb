{
  "nbformat": 4,
  "nbformat_minor": 0,
  "metadata": {
    "colab": {
      "name": "Spotify.ipynb",
      "provenance": [],
      "collapsed_sections": [
        "Yzw-fb9zknCC",
        "qZOgf_w3joz7",
        "5T4xvMPIiL-m",
        "TY5a_HhtmSkF",
        "J331NusgndR1",
        "3HaXVJS0lydY"
      ],
      "include_colab_link": true
    },
    "kernelspec": {
      "name": "python3",
      "display_name": "Python 3"
    },
    "language_info": {
      "name": "python"
    }
  },
  "cells": [
    {
      "cell_type": "markdown",
      "metadata": {
        "id": "view-in-github",
        "colab_type": "text"
      },
      "source": [
        "<a href=\"https://colab.research.google.com/github/skylum1/spotify-downloader/blob/main/Spotify.ipynb\" target=\"_parent\"><img src=\"https://colab.research.google.com/assets/colab-badge.svg\" alt=\"Open In Colab\"/></a>"
      ]
    },
    {
      "cell_type": "markdown",
      "source": [
        "### Run this cell to download all necccesary libraries for `spotdl` to work"
      ],
      "metadata": {
        "id": "Yzw-fb9zknCC"
      }
    },
    {
      "cell_type": "code",
      "source": [
        "!apt-get remove ffmpeg\n",
        "!add-apt-repository -y ppa:savoury1/ffmpeg4\n",
        "!apt install -y ffmpeg\n",
        "!pip install spotdl"
      ],
      "metadata": {
        "id": "gx3JI_nIdmGW"
      },
      "execution_count": null,
      "outputs": []
    },
    {
      "cell_type": "markdown",
      "source": [
        "### Run cell to download playlist in colab\n",
        "\n",
        "#### Steps:\n",
        "1. First enter playlist *url*\n",
        "2.  select `run after` from `Runtime` or press `ctrl`+`F10`\n",
        "\n",
        "**Note:- Make sure to run the `reset cell` in the end before running this cell again to download another playlist.** \n",
        "As it is essential that empty songs directory is created before the move command is executed.\n"
      ],
      "metadata": {
        "id": "qZOgf_w3joz7"
      }
    },
    {
      "cell_type": "code",
      "source": [
        "#@title Enter spotify playlist URL\n",
        "\n",
        "url = ' https://open.spotify.com/playlist/6an0hNyshVMWORG7qVNUbq ' #@param {type:\"string\"}\n",
        "\n",
        "!spotdl url | grep -e [Found] > ~/sp.log\n",
        "!mkdir songs\n",
        "!find -type f -name \"*.mp3\" -exec mv {} /content/songs/ \\;"
      ],
      "metadata": {
        "id": "ElhD6G_8dHyb"
      },
      "execution_count": null,
      "outputs": []
    },
    {
      "cell_type": "markdown",
      "source": [
        "### Run next cell to see songs that were not able to download\n",
        "\n",
        "\n",
        "**Note:- Run only after running previous cell.** \n",
        "\n"
      ],
      "metadata": {
        "id": "5T4xvMPIiL-m"
      }
    },
    {
      "cell_type": "code",
      "source": [
        "import re \n",
        "\n",
        "fil = open('/root/sp.log','r')\n",
        "content = [line.strip() for line in fil if line.strip() != \"\" ]\n",
        "seargx=re.compile(r'Searching YouTube Music for \"(.*)\"')\n",
        "foundx=re.compile(r'Found YouTube URL for \"(.*)\" : (.*)')\n",
        "searchList=[]\n",
        "foundList=[]\n",
        "foundURL=[]\n",
        "for st in content:\n",
        "  i+=1\n",
        "  se=re.match(seargx,st)\n",
        "  if se is not None: \n",
        "    searchList.append(se.group(1))\n",
        "  else:\n",
        "    se=re.match(foundx,st)\n",
        "    if se is not None: \n",
        "      foundList.append(se.group(1))\n",
        "      foundURL.append(se.group(2))\n",
        "    # else: \n",
        "    #   print(st) \n",
        "    #   break\n",
        "notFound=list(set(searchList) - set(foundList))\n",
        "print(*notFound,sep = \"\\n\")\n",
        "print(f'\\nNot found {len(notFound)} songs')"
      ],
      "metadata": {
        "id": "PDhjotg2eOMs"
      },
      "execution_count": null,
      "outputs": []
    },
    {
      "cell_type": "markdown",
      "source": [
        "### Zip the songs folder to download the folder\n",
        "\n",
        "\n",
        "**Note:- you can also transfer the zip file to your google drive by connecting it to the colab notebook. See this [resource](https://stackoverflow.com/questions/47744131/colaboratory-can-i-access-to-my-google-drive-folder-and-file) to know how to do it.** "
      ],
      "metadata": {
        "id": "TY5a_HhtmSkF"
      }
    },
    {
      "cell_type": "code",
      "source": [
        "!zip -r /content/song.zip /content/songs"
      ],
      "metadata": {
        "id": "MR4t3BWxoxKs"
      },
      "execution_count": null,
      "outputs": []
    },
    {
      "cell_type": "markdown",
      "source": [
        "### Reset the colab environment to download another playlist \n",
        "\n",
        "### To do so :\n",
        "1. The songs folder is deleted\n",
        "2. The songs zip file is removed \n"
      ],
      "metadata": {
        "id": "J331NusgndR1"
      }
    },
    {
      "cell_type": "code",
      "source": [
        "!rm -r /content/songs\n",
        "!rm -r /content/songs.zip\n"
      ],
      "metadata": {
        "id": "V6LBhqnHoGyV"
      },
      "execution_count": null,
      "outputs": []
    },
    {
      "cell_type": "markdown",
      "source": [
        "### Miscellaneous cells"
      ],
      "metadata": {
        "id": "3HaXVJS0lydY"
      }
    },
    {
      "cell_type": "code",
      "source": [
        "# removing all mp3 files\n",
        "#!find -type f -name \"*.mp3\" -exec rm {} \\;\n"
      ],
      "metadata": {
        "id": "VRUwR3YP94hv"
      },
      "execution_count": null,
      "outputs": []
    },
    {
      "cell_type": "code",
      "source": [
        "# finding size of files\n",
        "#!ls -lh"
      ],
      "metadata": {
        "id": "TicsIh7_rF7c"
      },
      "execution_count": null,
      "outputs": []
    },
    {
      "cell_type": "code",
      "source": [
        "# finding number of files in songs folder\n",
        "!ls /content/songs | wc -l;"
      ],
      "metadata": {
        "id": "gffzZKpUlrMh"
      },
      "execution_count": null,
      "outputs": []
    }
  ]
}